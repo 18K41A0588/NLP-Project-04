{
  "cells": [
    {
      "cell_type": "markdown",
      "metadata": {
        "id": "view-in-github",
        "colab_type": "text"
      },
      "source": [
        "<a href=\"https://colab.research.google.com/github/18K41A0588/NLP-Project-04/blob/main/Covid_19_chatbot_.ipynb\" target=\"_parent\"><img src=\"https://colab.research.google.com/assets/colab-badge.svg\" alt=\"Open In Colab\"/></a>"
      ]
    },
    {
      "cell_type": "code",
      "execution_count": null,
      "metadata": {
        "colab": {
          "base_uri": "https://localhost:8080/"
        },
        "id": "p_liej2wnvg3",
        "outputId": "af58efd1-77b3-4699-aa86-1669514b321a"
      },
      "outputs": [
        {
          "output_type": "stream",
          "name": "stdout",
          "text": [
            "[nltk_data] Downloading package wordnet to /root/nltk_data...\n",
            "[nltk_data]   Package wordnet is already up-to-date!\n",
            "[nltk_data] Downloading package punkt to /root/nltk_data...\n",
            "[nltk_data]   Package punkt is already up-to-date!\n",
            "Hey there! I'm Perry. I'm here to answer your queries regarding COVID 19. If you want to exit, type Bye! :)\n",
            "what is covid\n",
            "Perry:idx 0\n",
            "flat [0.         0.         0.         0.         0.         0.\n",
            " 0.         0.         0.         0.         0.11077202 1.        ]\n",
            "what is covid: \n",
            "coronavirus disease (covid-19) is an infectious disease caused by a newly discovered coronavirus,most people infected with the covid-19 virus will experience mild to moderate respiratory illness and recover without requiring special treatment,  older people, and those with underlying medical problems like cardiovascular disease, diabetes, chronic respiratory disease, and cancer are more likely to develop serious illness,\n",
            "people also might get infected if they touch an infected droplet on a surface and then touch their own nose, mouth, or eyes, experts are looking at whether the virus can spread through stool (poop).\n",
            "bye\n",
            "Perry: Bye! Have a great time!\n"
          ]
        }
      ],
      "source": [
        "from nltk.corpus import wordnet\n",
        "import nltk\n",
        "nltk.download('wordnet')\n",
        "from sklearn.feature_extraction.text import TfidfVectorizer\n",
        "from sklearn.metrics.pairwise import cosine_similarity\n",
        "import warnings\n",
        "import string\n",
        "import random\n",
        "import nltk\n",
        "nltk.download('punkt')\n",
        "warnings.filterwarnings('ignore')\n",
        "\n",
        "f = open('./data.txt', 'r', errors='ignore')\n",
        "\n",
        "raw = f.read()\n",
        "raw = raw.lower()\n",
        "\n",
        "sent_tokens = nltk.sent_tokenize(raw)  # converts to list of sentences\n",
        "word_tokens = nltk.word_tokenize(raw)\n",
        "# preprocessing\n",
        "lemmer = nltk.stem.WordNetLemmatizer()\n",
        "\n",
        "\n",
        "def LemTokens(tokens):\n",
        "    return [lemmer.lemmatize(token) for token in tokens]\n",
        "\n",
        "\n",
        "remove_punct_dict = dict((ord(punct), None) for punct in string.punctuation)\n",
        "\n",
        "\n",
        "def LemNormalize(text):\n",
        "    return LemTokens(nltk.word_tokenize(text.lower().translate(remove_punct_dict)))\n",
        "\n",
        "\n",
        "# Greetings\n",
        "GREETING_INPUTS = (\"hello\", \"hi\", \"greetings\", \"sup\", \"what's up\", \"hey\")\n",
        "GREETING_RESPONSES = [\"hi\", \"hey\", \"nods\", \"hi there\",\n",
        "                      \"hello\", \"I am glad! you are talking to me\"]\n",
        "\n",
        "# =============== GREETING ===============\n",
        "\n",
        "\n",
        "def greeting(scentence):\n",
        "\n",
        "    for word in scentence.split():\n",
        "        if word.lower() in GREETING_INPUTS:\n",
        "            return random.choice(GREETING_RESPONSES)\n",
        "\n",
        "# Vectorizer\n",
        "\n",
        "\n",
        "# =============== RESPONSE ===============\n",
        "\n",
        "\n",
        "def response(user_response):\n",
        "    chatbot_response = ''\n",
        "    sent_tokens.append(user_response)\n",
        "    #print(\"sent\",sent_tokens)\n",
        "    TfidfVec = TfidfVectorizer(tokenizer=LemNormalize, stop_words=\"english\")\n",
        "    tfidf = TfidfVec.fit_transform(sent_tokens)\n",
        "    \n",
        "    vals = cosine_similarity(tfidf[-1], tfidf)\n",
        "    idx = vals.argsort()[0][-2]\n",
        "    print(\"idx\",idx)\n",
        "    flat = vals.flatten()\n",
        "    flat.sort()\n",
        "    print(\"flat\",flat)\n",
        "    req_tfidf = flat[-2]\n",
        "    if(req_tfidf == 0):\n",
        "        chatbot_response = chatbot_response + \"I am sorry! I don't understand you\"\n",
        "        return chatbot_response\n",
        "\n",
        "    else:\n",
        "      TfidfVec = TfidfVectorizer(tokenizer=LemNormalize, stop_words=\"english\")\n",
        "      chatbot_response = chatbot_response+sent_tokens[idx]\n",
        "      #tfidf1 = TfidfVec.fit_transform(chatbot_response)\n",
        "      #vals1 = cosine_similarity(tfidf[-1], tfidf1)\n",
        "      #flat1 = vals1.flatten()\n",
        "      #flat1.sort()\n",
        "      #print(flat1)\n",
        "      #hatbot_response = chatbot_response+sent_tokens[idx]\n",
        "      #print(chatbot_response)\n",
        "      return chatbot_response\n",
        "\n",
        "\n",
        "if __name__ == \"__main__\":\n",
        "    flag = True\n",
        "    print(\"Hey there! I'm Perry. I'm here to answer your queries regarding COVID 19. If you want to exit, type Bye! :)\")\n",
        "    while(flag == True):\n",
        "        user_response = input()\n",
        "        user_response = user_response.lower()\n",
        "        if(user_response != 'bye'):\n",
        "            if user_response == 'thanks' or user_response == 'thank you':\n",
        "                flag = False\n",
        "                print(\"Perry: You're welcome!\")\n",
        "            else:\n",
        "                if(greeting(user_response) != None):\n",
        "                    print(\"Perry:\" + greeting(user_response))\n",
        "                else:\n",
        "                    print(\"Perry:\", end='')\n",
        "                    print(response(user_response))\n",
        "                    sent_tokens.remove(user_response)\n",
        "        else:\n",
        "            flag = False\n",
        "            print(\"Perry: Bye! Have a great time!\")"
      ]
    },
    {
      "cell_type": "code",
      "execution_count": null,
      "metadata": {
        "id": "kHUmrFWEKypA"
      },
      "outputs": [],
      "source": [
        ""
      ]
    }
  ],
  "metadata": {
    "colab": {
      "collapsed_sections": [],
      "name": "Covid-19 chatbot .ipynb",
      "provenance": [],
      "include_colab_link": true
    },
    "kernelspec": {
      "display_name": "Python 3",
      "name": "python3"
    },
    "language_info": {
      "name": "python"
    }
  },
  "nbformat": 4,
  "nbformat_minor": 0
}